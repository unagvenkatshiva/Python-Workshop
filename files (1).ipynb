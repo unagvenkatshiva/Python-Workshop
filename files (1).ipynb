{
  "nbformat": 4,
  "nbformat_minor": 0,
  "metadata": {
    "colab": {
      "name": "files.ipynb",
      "provenance": [],
      "collapsed_sections": [],
      "toc_visible": true
    },
    "kernelspec": {
      "name": "python3",
      "display_name": "Python 3"
    }
  },
  "cells": [
    {
      "cell_type": "code",
      "metadata": {
        "id": "QloHCsW8_knY",
        "colab_type": "code",
        "outputId": "80d29400-cc40-4320-f6e9-493fef036f6b",
        "colab": {
          "base_uri": "https://localhost:8080/",
          "height": 68
        }
      },
      "source": [
        "fo = open(\"foo.txt\", \"wb\")\n",
        "print (\"Name of the file: \", fo.name)\n",
        "print (\"Closed or not : \", fo.closed)\n",
        "print (\"Opening mode : \", fo.mode)\n",
        "fo.close()"
      ],
      "execution_count": 0,
      "outputs": [
        {
          "output_type": "stream",
          "text": [
            "Name of the file:  foo.txt\n",
            "Closed or not :  False\n",
            "Opening mode :  wb\n"
          ],
          "name": "stdout"
        }
      ]
    },
    {
      "cell_type": "code",
      "metadata": {
        "id": "OFrPXfSIAKCz",
        "colab_type": "code",
        "outputId": "3f4ab76b-1ddc-49aa-f698-a361c1cae17c",
        "colab": {
          "base_uri": "https://localhost:8080/",
          "height": 34
        }
      },
      "source": [
        "fo = open(\"foo.txt\", \"w\")\n",
        "fo.write( \"Python\")"
      ],
      "execution_count": 0,
      "outputs": [
        {
          "output_type": "execute_result",
          "data": {
            "text/plain": [
              "6"
            ]
          },
          "metadata": {
            "tags": []
          },
          "execution_count": 9
        }
      ]
    },
    {
      "cell_type": "code",
      "metadata": {
        "id": "-p36OvDWBZ33",
        "colab_type": "code",
        "outputId": "1c066f63-10a7-4c3c-e967-a11a9b415cf5",
        "colab": {
          "base_uri": "https://localhost:8080/",
          "height": 34
        }
      },
      "source": [
        "fo = open(\"foo.txt\", \"r+\")\n",
        "fo.write( \"GCEK\")\n",
        "str = fo.read(10)\n",
        "print (\"Read String is : \", str)\n",
        "\n",
        "\n",
        "# Close opened file\n",
        "fo.close()"
      ],
      "execution_count": 0,
      "outputs": [
        {
          "output_type": "stream",
          "text": [
            "Read String is :  PythonGCEK\n"
          ],
          "name": "stdout"
        }
      ]
    },
    {
      "cell_type": "code",
      "metadata": {
        "id": "aNfcGoklCXAv",
        "colab_type": "code",
        "outputId": "4996350c-9d28-4820-d278-a35638383a09",
        "colab": {
          "base_uri": "https://localhost:8080/",
          "height": 68
        }
      },
      "source": [
        "fo = open(\"foo.txt\", \"r+\")\n",
        "str = fo.read(10)\n",
        "print (\"Read String is : \", str)\n",
        "\n",
        "# Check current position\n",
        "position = fo.tell()\n",
        "print (\"Current file position : \", position)\n",
        "\n",
        "# Reposition pointer at the beginning once again\n",
        "position = fo.seek(0, 0)\n",
        "str = fo.read(10)\n",
        "print (\"Again read String is : \", str)\n",
        "\n",
        "# Close opened file\n",
        "fo.close()"
      ],
      "execution_count": 0,
      "outputs": [
        {
          "output_type": "stream",
          "text": [
            "Read String is :  PythonGCEK\n",
            "Current file position :  10\n",
            "Again read String is :  PythonGCEK\n"
          ],
          "name": "stdout"
        }
      ]
    },
    {
      "cell_type": "code",
      "metadata": {
        "id": "rCUf8BzCCijk",
        "colab_type": "code",
        "colab": {}
      },
      "source": [
        ""
      ],
      "execution_count": 0,
      "outputs": []
    }
  ]
}